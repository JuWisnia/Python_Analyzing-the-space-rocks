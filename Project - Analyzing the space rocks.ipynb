{
 "cells": [
  {
   "cell_type": "markdown",
   "id": "50a1ad9b",
   "metadata": {},
   "source": [
    "# Introduction"
   ]
  },
  {
   "cell_type": "markdown",
   "id": "bbb378e4",
   "metadata": {},
   "source": [
    "<b>Project goal</b>: analyzing the different types of rocks found by the Artemis Rover and producing a report. "
   ]
  },
  {
   "cell_type": "markdown",
   "id": "6c0e042d",
   "metadata": {},
   "source": [
    "<b>Project tasks</b>:<br>\n",
    "    - receive text document of the different types of rocks from rover, <br>\n",
    "    - parse through it to summarize it, <br>\n",
    "    - create report."
   ]
  },
  {
   "cell_type": "markdown",
   "id": "1259e6e4",
   "metadata": {},
   "source": [
    "# Program"
   ]
  },
  {
   "cell_type": "markdown",
   "id": "f28c7a60",
   "metadata": {},
   "source": [
    "<B> Welcome screen. "
   ]
  },
  {
   "cell_type": "code",
   "execution_count": 2,
   "id": "bf8e1b77",
   "metadata": {},
   "outputs": [
    {
     "name": "stdout",
     "output_type": "stream",
     "text": [
      "Artemis Rover Rock Scanner Starting\n"
     ]
    }
   ],
   "source": [
    "print(\"Artemis Rover Rock Scanner Starting\")"
   ]
  },
  {
   "cell_type": "markdown",
   "id": "ec139043",
   "metadata": {},
   "source": [
    "<b>Creating some variables to represent the count of the different types of rocks that Artemis found on the Moon. </b><br>\n",
    "\n",
    "The specific rocks that are looked for, are: <br>\n",
    "\n",
    "* <b>Basalt</b>: The Mare Rock <br>\n",
    "* <b>Breccia</b>: Shocked Rock <br>\n",
    "* <b>Highland Rock</b>: Anorthosite <br>\n",
    "* <b>Regolith Soil/Surface Layer</b> <br>\n",
    "\n",
    "These types are the four main types of rocks found on the Moon. <br>"
   ]
  },
  {
   "cell_type": "code",
   "execution_count": 3,
   "id": "38debb12",
   "metadata": {},
   "outputs": [],
   "source": [
    "basalt = 0\n",
    "breccia = 0\n",
    "highland = 0\n",
    "regolith = 0\n",
    "rockList = []"
   ]
  },
  {
   "cell_type": "markdown",
   "id": "77346758",
   "metadata": {},
   "source": [
    "<b>Reading in Moon rock data from text file for exploration"
   ]
  },
  {
   "cell_type": "code",
   "execution_count": 4,
   "id": "c7bcfc07",
   "metadata": {},
   "outputs": [],
   "source": [
    "strPath = \"rocks.txt\"\n",
    "fileObject = open(strPath, \"w\")\n",
    "fileObject.writelines([\"Reading Rocks\\n\",\"basalt\\n\",\"breccia\\n\",\"highland\\n\",\"regolith\\n\",\"highland\\n\",\"breccia\\n\",\"highland\\n\",\"regolith\\n\",\"regolith\\n\",\"basalt\\n\",\"highland\\n\",\"basalt\\n\",\"breccia\\n\",\"breccia\\n\",\"regolith\\n\",\"breccia\\n\",\"highland\\n\",\"highland\\n\",\"breccia\\n\",\"basalt\\n\"])\n",
    "fileObject.close()"
   ]
  },
  {
   "cell_type": "markdown",
   "id": "1cd12188",
   "metadata": {},
   "source": [
    "Reading first line."
   ]
  },
  {
   "cell_type": "code",
   "execution_count": 5,
   "id": "9a14f3b0",
   "metadata": {},
   "outputs": [
    {
     "name": "stdout",
     "output_type": "stream",
     "text": [
      "Reading Rocks\n",
      "\n"
     ]
    }
   ],
   "source": [
    "strPath = \"rocks.txt\"\n",
    "fileObject = open(strPath)\n",
    "line = fileObject.readline()\n",
    "print(line)"
   ]
  },
  {
   "cell_type": "markdown",
   "id": "a2d2430b",
   "metadata": {},
   "source": [
    "<b>Calling readlines() function to put all of the lines into our rockList variable. </b><br>\n",
    "Also printingall of the rocks that are in the rockList and close the fileObject."
   ]
  },
  {
   "cell_type": "code",
   "execution_count": 6,
   "id": "d0fdbec1",
   "metadata": {},
   "outputs": [
    {
     "name": "stdout",
     "output_type": "stream",
     "text": [
      "basalt\n",
      "\n",
      "breccia\n",
      "\n",
      "highland\n",
      "\n",
      "regolith\n",
      "\n",
      "highland\n",
      "\n",
      "breccia\n",
      "\n",
      "highland\n",
      "\n",
      "regolith\n",
      "\n",
      "regolith\n",
      "\n",
      "basalt\n",
      "\n",
      "highland\n",
      "\n",
      "basalt\n",
      "\n",
      "breccia\n",
      "\n",
      "breccia\n",
      "\n",
      "regolith\n",
      "\n",
      "breccia\n",
      "\n",
      "highland\n",
      "\n",
      "highland\n",
      "\n",
      "breccia\n",
      "\n",
      "basalt\n",
      "\n"
     ]
    }
   ],
   "source": [
    "rockList = fileObject.readlines()\n",
    "\n",
    "for rock in rockList:\n",
    "    print(rock)\n",
    "    \n",
    "fileObject.close()"
   ]
  },
  {
   "cell_type": "markdown",
   "id": "5d823058",
   "metadata": {},
   "source": [
    "<b>Creating a function to count types of Moon rocks found"
   ]
  },
  {
   "cell_type": "code",
   "execution_count": 10,
   "id": "3612c53e",
   "metadata": {},
   "outputs": [],
   "source": [
    "def countMoonRocks(rockToID):\n",
    "    global basalt\n",
    "    global breccia\n",
    "    global highland\n",
    "    global regolith\n",
    "    \n",
    "    rockToID = rockToID.lower()\n",
    "    \n",
    "    if (\"basalt\" in rockToID):\n",
    "        print(\"Found a basalt\\n\")\n",
    "        basalt += 1\n",
    "        \n",
    "    elif (\"breccia\" in rockToID):\n",
    "        print(\"Found a breccia\\n\")\n",
    "        breccia += 1\n",
    "    \n",
    "    elif (\"highland\" in rockToID):\n",
    "        print(\"Found a highland\\n\")\n",
    "        highland += 1\n",
    "        \n",
    "    elif(\"regolith\" in rockToID):\n",
    "        print(\"Found a regolith\\n\")\n",
    "        regolith += 1\n",
    "    \n",
    "    else:\n",
    "        print(\"No rocks found\\n\")"
   ]
  },
  {
   "cell_type": "markdown",
   "id": "20617195",
   "metadata": {},
   "source": [
    "<b> Counting the number of Moon rocks by calling a Python function"
   ]
  },
  {
   "cell_type": "markdown",
   "id": "d876ceb3",
   "metadata": {},
   "source": [
    "Creating the number of Moon rocks by calling a Python function"
   ]
  },
  {
   "cell_type": "code",
   "execution_count": 11,
   "id": "082900d1",
   "metadata": {},
   "outputs": [
    {
     "name": "stdout",
     "output_type": "stream",
     "text": [
      "Found a basalt\n",
      "\n",
      "Found a breccia\n",
      "\n",
      "Found a highland\n",
      "\n",
      "Found a regolith\n",
      "\n",
      "Found a highland\n",
      "\n",
      "Found a breccia\n",
      "\n",
      "Found a highland\n",
      "\n",
      "Found a regolith\n",
      "\n",
      "Found a regolith\n",
      "\n",
      "Found a basalt\n",
      "\n",
      "Found a highland\n",
      "\n",
      "Found a basalt\n",
      "\n",
      "Found a breccia\n",
      "\n",
      "Found a breccia\n",
      "\n",
      "Found a regolith\n",
      "\n",
      "Found a breccia\n",
      "\n",
      "Found a highland\n",
      "\n",
      "Found a highland\n",
      "\n",
      "Found a breccia\n",
      "\n",
      "Found a basalt\n",
      "\n"
     ]
    }
   ],
   "source": [
    "for rock in rockList:\n",
    "    countMoonRocks(rock)"
   ]
  },
  {
   "cell_type": "markdown",
   "id": "fcd20854",
   "metadata": {},
   "source": [
    "<b> Analyze and summarize data in Python"
   ]
  },
  {
   "cell_type": "markdown",
   "id": "8851de33",
   "metadata": {},
   "source": [
    "Printing the number of each type of rock that was found."
   ]
  },
  {
   "cell_type": "code",
   "execution_count": 13,
   "id": "631ccbdd",
   "metadata": {},
   "outputs": [
    {
     "name": "stdout",
     "output_type": "stream",
     "text": [
      "Number of Basalt:  4\n",
      "Number of Breccia:  6\n",
      "Number of Highland:  6\n",
      "Number of Regolith:  4\n"
     ]
    }
   ],
   "source": [
    "print(\"Number of Basalt: \", basalt)\n",
    "print(\"Number of Breccia: \", breccia)\n",
    "print(\"Number of Highland: \", highland)\n",
    "print(\"Number of Regolith: \", regolith)"
   ]
  },
  {
   "cell_type": "markdown",
   "id": "76420cac",
   "metadata": {},
   "source": [
    "Providing some more general data, such as the type of rock that was the most and least common. "
   ]
  },
  {
   "cell_type": "code",
   "execution_count": 15,
   "id": "9b9dcd0f",
   "metadata": {},
   "outputs": [
    {
     "name": "stdout",
     "output_type": "stream",
     "text": [
      "The max number of one type of rock found was: 6\n",
      "The minimum number of one type of rock found was: 4\n"
     ]
    }
   ],
   "source": [
    "print(\"The max number of one type of rock found was:\", max(basalt, breccia, highland, regolith))\n",
    "print(\"The minimum number of one type of rock found was:\", min(basalt, breccia, highland, regolith))"
   ]
  },
  {
   "cell_type": "markdown",
   "id": "d4d7b27b",
   "metadata": {},
   "source": [
    "# Addition "
   ]
  },
  {
   "cell_type": "markdown",
   "id": "08b8fc78",
   "metadata": {},
   "source": [
    "<b> Creating a chart with received data"
   ]
  },
  {
   "cell_type": "code",
   "execution_count": 16,
   "id": "de17ebce",
   "metadata": {},
   "outputs": [],
   "source": [
    "import matplotlib.pyplot as plt"
   ]
  },
  {
   "cell_type": "code",
   "execution_count": 27,
   "id": "774af8b7",
   "metadata": {},
   "outputs": [
    {
     "data": {
      "image/png": "[encoded data removed]",
      "text/plain": [
       "<Figure size 640x480 with 1 Axes>"
      ]
     },
     "metadata": {},
     "output_type": "display_data"
    }
   ],
   "source": [
    "# values for chart\n",
    "rocks_names = [\"basalt\", \"breccia\", \"highland\", \"regolith\"]\n",
    "rocks_count = [basalt, breccia, highland, regolith]\n",
    "\n",
    "# making the bar chart on the data\n",
    "plt.bar(rocks_names, rocks_count, color=\"grey\")\n",
    "\n",
    "plt.title(\"Count of founded space rocks\")\n",
    "plt.xlabel(\"Rock type\")\n",
    "plt.ylabel(\"Number of rocks found\")\n",
    "plt.show()"
   ]
  },
  {
   "cell_type": "code",
   "execution_count": null,
   "id": "d03e8e28",
   "metadata": {},
   "outputs": [],
   "source": []
  }
 ],
 "metadata": {
  "kernelspec": {
   "display_name": "Python 3 (ipykernel)",
   "language": "python",
   "name": "python3"
  },
  "language_info": {
   "codemirror_mode": {
    "name": "ipython",
    "version": 3
   },
   "file_extension": ".py",
   "mimetype": "text/x-python",
   "name": "python",
   "nbconvert_exporter": "python",
   "pygments_lexer": "ipython3",
   "version": "3.9.13"
  }
 },
 "nbformat": 4,
 "nbformat_minor": 5
}
